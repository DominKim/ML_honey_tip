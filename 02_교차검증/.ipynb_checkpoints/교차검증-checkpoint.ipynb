{
 "cells": [
  {
   "cell_type": "code",
   "execution_count": 1,
   "id": "moved-burden",
   "metadata": {},
   "outputs": [],
   "source": [
    "import pandas as pd\n",
    "from sklearn.model_selection import KFold\n",
    "\n",
    "df = pd.read_csv(\"winequality-red.csv\", sep = \";\")\n",
    "df[\"kfold\"] = -1\n",
    "\n",
    "df = df.sample(frac = 1).reset_index(drop = True)\n",
    "\n",
    "kf = KFold(n_splits = 5)\n",
    "\n",
    "for fold, (train, val) in enumerate(kf.split(df)):\n",
    "    df.loc[val, \"kfold\"] = fold\n",
    "    \n",
    "df.to_csv(\"train_folds.csv\", index = False)"
   ]
  },
  {
   "cell_type": "code",
   "execution_count": 5,
   "id": "demographic-avatar",
   "metadata": {},
   "outputs": [
    {
     "name": "stdout",
     "output_type": "stream",
     "text": [
      "1279 320\n",
      "1279 320\n",
      "1279 320\n",
      "1279 320\n",
      "1280 319\n"
     ]
    }
   ],
   "source": [
    "for fold, (train, val) in enumerate(kf.split(df)):\n",
    "    print(len(train), len(val))"
   ]
  },
  {
   "cell_type": "code",
   "execution_count": 7,
   "id": "supposed-speed",
   "metadata": {},
   "outputs": [],
   "source": [
    "from sklearn.model_selection import StratifiedKFold\n",
    "import matplotlib.pyplot as plt\n",
    "import seaborn as sns\n",
    "\n",
    "df = pd.read_csv(\"winequality-red.csv\", sep = \";\")\n",
    "df[\"kfold\"] = -1\n",
    "\n",
    "df = df.sample(frac = 1).reset_index(drop = True)\n",
    "\n",
    "kf = StratifiedKFold(n_splits = 5)\n",
    "\n",
    "for fold, (train, val) in enumerate(kf.split(X = df.iloc[:, :-1], y = df.iloc[:, -1])):\n",
    "    df.loc[val, \"kfold\"] = fold\n",
    "    \n",
    "df.to_csv(\"train_folds.csv\", index = False)"
   ]
  },
  {
   "cell_type": "code",
   "execution_count": 12,
   "id": "descending-fetish",
   "metadata": {},
   "outputs": [
    {
     "data": {
      "text/plain": [
       "Text(0, 0.5, 'count')"
      ]
     },
     "execution_count": 12,
     "metadata": {},
     "output_type": "execute_result"
    },
    {
     "data": {
      "image/png": "[encoded data removed]",
      "text/plain": [
       "<Figure size 432x288 with 1 Axes>"
      ]
     },
     "metadata": {
      "needs_background": "light"
     },
     "output_type": "display_data"
    }
   ],
   "source": [
    "b = sns.countplot(x = \"quality\", data = df)\n",
    "b.set_xlabel(\"quality\", fontsize = 20)\n",
    "b.set_ylabel(\"count\", fontsize = 20)"
   ]
  },
  {
   "cell_type": "code",
   "execution_count": 23,
   "id": "chubby-skating",
   "metadata": {},
   "outputs": [],
   "source": [
    "from sklearn.datasets import make_regression\n",
    "import numpy as np\n",
    "\n",
    "def create_flods(data):\n",
    "    data[\"kfold\"] = -1\n",
    "    \n",
    "    data = data.sample(frac = 1).reset_index(drop = True)\n",
    "    \n",
    "    # Sturge\n",
    "    num_bins = int(np.floor(1 + np.log2(len(data))))\n",
    "    data.loc[:, \"bins\"] = pd.cut(\n",
    "        data[\"target\"], bins = num_bins, labels = False\n",
    "    )\n",
    "    \n",
    "    kf = StratifiedKFold(n_splits = 5)\n",
    "    \n",
    "    for f, (t, v) in enumerate(kf.split(X = data, y = data.bins.values)):\n",
    "        data.loc[v, \"kflod\"] = f\n",
    "        \n",
    "    data = data.drop(\"bins\", axis = 1)\n",
    "    return data\n",
    "\n",
    "X, y = make_regression(n_samples = 150000, n_features = 100, n_targets = 1)\n",
    "\n",
    "df = pd.DataFrame(\n",
    "    X, columns = [f\"f_{i}\" for i in range(X.shape[1])]\n",
    ")\n",
    "df.loc[:, \"target\"] = y\n",
    "\n",
    "df = create_flods(df)"
   ]
  }
 ],
 "metadata": {
  "kernelspec": {
   "display_name": "Python 3",
   "language": "python",
   "name": "python3"
  },
  "language_info": {
   "codemirror_mode": {
    "name": "ipython",
    "version": 3
   },
   "file_extension": ".py",
   "mimetype": "text/x-python",
   "name": "python",
   "nbconvert_exporter": "python",
   "pygments_lexer": "ipython3",
   "version": "3.7.9"
  }
 },
 "nbformat": 4,
 "nbformat_minor": 5
}
