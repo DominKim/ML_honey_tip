{
 "cells": [
  {
   "cell_type": "code",
   "execution_count": 39,
   "id": "powerful-transportation",
   "metadata": {},
   "outputs": [],
   "source": [
    "import pandas as pd\n",
    "from sklearn.datasets import load_wine\n",
    "import numpy as np\n",
    "\n",
    "from sklearn.tree import DecisionTreeClassifier\n",
    "from sklearn.metrics import accuracy_score"
   ]
  },
  {
   "cell_type": "code",
   "execution_count": 19,
   "id": "analyzed-coordinator",
   "metadata": {},
   "outputs": [],
   "source": [
    "df = pd.read_csv(\"winequality-red.csv\", sep = \";\")"
   ]
  },
  {
   "cell_type": "code",
   "execution_count": 21,
   "id": "several-despite",
   "metadata": {},
   "outputs": [],
   "source": [
    "def quality_mapping(x):\n",
    "    if x == 3:\n",
    "        return 0\n",
    "    elif x == 4:\n",
    "        return 1\n",
    "    elif x == 5:\n",
    "        return 2\n",
    "    elif x == 6:\n",
    "        return 3\n",
    "    elif x == 7:\n",
    "        return 4\n",
    "    else:\n",
    "        return 5\n",
    "    \n",
    "df.loc[:, \"quality\"] = df.loc[:, \"quality\"].apply(lambda x: quality_mapping(x))"
   ]
  },
  {
   "cell_type": "code",
   "execution_count": 28,
   "id": "human-manner",
   "metadata": {},
   "outputs": [],
   "source": [
    "import torch\n",
    "# 데이터 셔플\n",
    "idx = torch.randperm(len(df)).numpy()\n",
    "df = df.iloc[idx, :].reset_index(drop = True)"
   ]
  },
  {
   "cell_type": "code",
   "execution_count": 38,
   "id": "posted-guess",
   "metadata": {},
   "outputs": [],
   "source": [
    "df_train = df.head(1000)\n",
    "df_test = df.tail(599)"
   ]
  },
  {
   "cell_type": "code",
   "execution_count": 40,
   "id": "radio-liberty",
   "metadata": {},
   "outputs": [],
   "source": [
    "clf = DecisionTreeClassifier(max_depth = 3)"
   ]
  },
  {
   "cell_type": "code",
   "execution_count": 43,
   "id": "confused-testing",
   "metadata": {},
   "outputs": [
    {
     "data": {
      "text/plain": [
       "DecisionTreeClassifier(max_depth=3)"
      ]
     },
     "execution_count": 43,
     "metadata": {},
     "output_type": "execute_result"
    }
   ],
   "source": [
    "clf.fit(df_train.iloc[:, :-1], df_train.iloc[:, -1])"
   ]
  },
  {
   "cell_type": "code",
   "execution_count": 47,
   "id": "greek-haven",
   "metadata": {},
   "outputs": [],
   "source": [
    "train_pred = clf.predict(df_train.iloc[:, :-1])\n",
    "\n",
    "test_pred = clf.predict(df_test.iloc[:, :-1])\n",
    "\n",
    "train_acc = accuracy_score(df_train.iloc[:, -1], train_pred)\n",
    "test_acc = accuracy_score(df_test.iloc[:, -1], test_pred)"
   ]
  },
  {
   "cell_type": "code",
   "execution_count": 48,
   "id": "headed-clarity",
   "metadata": {},
   "outputs": [
    {
     "data": {
      "text/plain": [
       "Index(['fixed acidity', 'volatile acidity', 'citric acid', 'residual sugar',\n",
       "       'chlorides', 'free sulfur dioxide', 'total sulfur dioxide', 'density',\n",
       "       'pH', 'sulphates', 'alcohol'],\n",
       "      dtype='object')"
      ]
     },
     "execution_count": 48,
     "metadata": {},
     "output_type": "execute_result"
    }
   ],
   "source": [
    "df.columns[:-1]"
   ]
  },
  {
   "cell_type": "code",
   "execution_count": 65,
   "id": "possible-reporter",
   "metadata": {},
   "outputs": [],
   "source": [
    "import matplotlib.pyplot as plt\n",
    "import seaborn as sns\n",
    "\n",
    "plt.rc(\"xtick\", labelsize = 20)\n",
    "plt.rc(\"ytick\", labelsize = 20)\n",
    "\n",
    "%matplotlib inline\n",
    "\n",
    "train_acc_lst = []\n",
    "test_acc_lst = []\n",
    "\n",
    "for depth in range(1, 25):\n",
    "    clf = DecisionTreeClassifier(max_depth=depth)\n",
    "    x = df.columns[:-1]\n",
    "    y = df.columns[-1]\n",
    "    \n",
    "    clf.fit(df_train[x], df_train[y])\n",
    "    \n",
    "    train_pred = clf.predict(df_train[x])\n",
    "    test_pred = clf.predict(df_test[x])\n",
    "    \n",
    "    train_acc = accuracy_score(df_train[y], train_pred)\n",
    "    test_acc = accuracy_score(df_test[y], test_pred)\n",
    "    \n",
    "    train_acc_lst.append(train_acc)\n",
    "    test_acc_lst.append(test_acc)"
   ]
  },
  {
   "cell_type": "code",
   "execution_count": 66,
   "id": "funded-framework",
   "metadata": {},
   "outputs": [
    {
     "data": {
      "image/png": "[encoded data removed]",
      "text/plain": [
       "<Figure size 720x360 with 1 Axes>"
      ]
     },
     "metadata": {},
     "output_type": "display_data"
    }
   ],
   "source": [
    "plt.figure(figsize = (10, 5))\n",
    "sns.set_style(\"whitegrid\")\n",
    "plt.plot(train_acc_lst, label = \"train accuracy\")\n",
    "plt.plot(test_acc_lst, label = \"test accuracy\")\n",
    "plt.legend(loc = \"upper left\", prop = {\"size\":15})\n",
    "plt.xticks(range(0, 26, 5), c = \"white\")\n",
    "plt.xlabel(\"max_depth\", size = 20, c= \"white\")\n",
    "plt.ylabel(\"accuracy\", size = 20, c= \"white\")\n",
    "plt.show()"
   ]
  },
  {
   "cell_type": "markdown",
   "id": "optimum-victory",
   "metadata": {},
   "source": [
    "## 교차검증 : 학습에 사용되지 않은 실제 데이터에서 좋은 성능ㄹ 낼 수 있는 머신러닝 모델을 만들기 위해 가장 주요한 단계\n",
    "- 오버피팅(Over Fitting) : 학습 데이터는 환벽하게 학습하지만, 학습에 사용도지 않은 데이터에서의 성능이 좋지 않은 경우\n",
    "\n",
    "- 딥러닝의 오버피팅 : 학습손실은 향상 되는데 시험손실은 악화 되는 경우\n",
    "\n",
    "-  홀드 아웃(hold-out) : 데이터를 train과 test셋으로 나누는 교차검증 방법\n",
    "    - 데이터 사이즈가 크고 모델 학습이 오래 걸리는 경우 사용하는 검증방식"
   ]
  },
  {
   "cell_type": "code",
   "execution_count": null,
   "id": "comfortable-duplicate",
   "metadata": {},
   "outputs": [],
   "source": []
  }
 ],
 "metadata": {
  "kernelspec": {
   "display_name": "Python 3",
   "language": "python",
   "name": "python3"
  },
  "language_info": {
   "codemirror_mode": {
    "name": "ipython",
    "version": 3
   },
   "file_extension": ".py",
   "mimetype": "text/x-python",
   "name": "python",
   "nbconvert_exporter": "python",
   "pygments_lexer": "ipython3",
   "version": "3.7.9"
  }
 },
 "nbformat": 4,
 "nbformat_minor": 5
}
